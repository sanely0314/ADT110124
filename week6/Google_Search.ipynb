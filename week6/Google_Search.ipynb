{
  "nbformat": 4,
  "nbformat_minor": 0,
  "metadata": {
    "colab": {
      "provenance": []
    },
    "kernelspec": {
      "name": "python3",
      "display_name": "Python 3"
    },
    "language_info": {
      "name": "python"
    }
  },
  "cells": [
    {
      "cell_type": "code",
      "execution_count": 2,
      "metadata": {
        "colab": {
          "base_uri": "https://localhost:8080/"
        },
        "id": "R5vqZdlQpM-1",
        "outputId": "259bfd73-38ae-4fce-9789-41166cdd80f0"
      },
      "outputs": [
        {
          "output_type": "stream",
          "name": "stdout",
          "text": [
            "標題：寒流- 維基百科，自由的百科全書zh.wikipedia.org › wiki › 寒潮\n",
            "網址：/url?q=https://zh.wikipedia.org/wiki/%25E5%25AF%2592%25E6%25BD%25AE&sa=U&ved=2ahUKEwiD7Lbxiv-BAxUGMDQIHfLUBqEQFnoECAMQAg&usg=AOvVaw1EPG-lUa4ezFnuWYjIpAOC\n",
            "標題：寒流_百度百科baike.baidu.com › item › 寒流\n",
            "網址：/url?q=https://baike.baidu.com/item/%25E5%25AF%2592%25E6%25B5%2581/2857686&sa=U&ved=2ahUKEwiD7Lbxiv-BAxUGMDQIHfLUBqEQFnoECAsQAg&usg=AOvVaw2X3RSq4TUROVBj9OT4QV9C\n",
            "標題：寒流- 维基百科，自由的百科全书zh.wikipedia.org › zh-hans › 寒流\n",
            "網址：/url?q=https://zh.wikipedia.org/zh-hans/%25E5%25AF%2592%25E6%25B5%2581&sa=U&ved=2ahUKEwiD7Lbxiv-BAxUGMDQIHfLUBqEQFnoECAkQAg&usg=AOvVaw1pSYdQ4egvypUrb64r5mTG\n",
            "標題：寒流与寒潮的区别-水务知识-深圳市罗湖区人民政府门户网站www.szlh.gov.cn › 政民互动 › 业务知识库 › 水务知识\n",
            "網址：/url?q=http://www.szlh.gov.cn/zmhd/ywzsk/swzs/content/post_9287494.html&sa=U&ved=2ahUKEwiD7Lbxiv-BAxUGMDQIHfLUBqEQFnoECAYQAg&usg=AOvVaw2bwR88TTmbM5VHsvjctccG\n",
            "標題：冷空气、寒潮和寒流的区别 - 中国气象局www.cma.gov.cn › kppd › kppdsytj\n",
            "網址：/url?q=https://www.cma.gov.cn/kppd/kppdsytj/201310/t20131023_229484.html&sa=U&ved=2ahUKEwiD7Lbxiv-BAxUGMDQIHfLUBqEQFnoECAIQAg&usg=AOvVaw21s7ZvNXKhFaShTIYVyAfz\n",
            "標題：辭典檢視[寒流: ㄏㄢˊ ㄌㄧㄡˊ] - 教育部《重編國語辭典修訂本》2021dict.revised.moe.edu.tw › dictView\n",
            "網址：/url?q=https://dict.revised.moe.edu.tw/dictView.jsp%3FID%3D81770%26la%3D0%26powerMode%3D0&sa=U&ved=2ahUKEwiD7Lbxiv-BAxUGMDQIHfLUBqEQFnoECAoQAg&usg=AOvVaw3KItUq5mPjt_9N1KfUmnXN\n",
            "標題：IAP科普君：冷空气、冷锋、寒潮、寒流 - 中国科学院大气物理研究所www.iap.cas.cn › 科学传播 › 科普文章\n",
            "網址：/url?q=http://www.iap.cas.cn/gb/kxcb_165476/kpwz_165480/202004/t20200417_5551392.html&sa=U&ved=2ahUKEwiD7Lbxiv-BAxUGMDQIHfLUBqEQFnoECAQQAg&usg=AOvVaw3YBJB7Xrza0vtQO1KATkSB\n",
            "標題：寒潮与寒流 - 中国气象局www.cma.gov.cn › kppd › kppdqxwq › kppdjckp\n",
            "網址：/url?q=https://www.cma.gov.cn/kppd/kppdqxwq/kppdjckp/201212/t20121216_197356.html&sa=U&ved=2ahUKEwiD7Lbxiv-BAxUGMDQIHfLUBqEQFnoECAUQAg&usg=AOvVaw3i0_W76euPDNv_UnXfaI3M\n",
            "標題：低溫特報| 交通部中央氣象署www.cwa.gov.tw › Warning\n",
            "網址：/url?q=https://www.cwa.gov.tw/V8/C/P/Warning/W28.html&sa=U&ved=2ahUKEwiD7Lbxiv-BAxUGMDQIHfLUBqEQFnoECAcQAg&usg=AOvVaw1CXA-PWqjREL_Uw8t3kyYR\n",
            "標題：強烈寒流來襲！嚴防心血管疾病發作-心血管疾病患者及年長者尤應注意www.mohw.gov.tw › ...\n",
            "網址：/url?q=https://www.mohw.gov.tw/cp-2623-19639-1.html&sa=U&ved=2ahUKEwiD7Lbxiv-BAxUGMDQIHfLUBqEQFnoECAEQAg&usg=AOvVaw2L1LT_aQfdYJRJKQmI3wB0\n"
          ]
        }
      ],
      "source": [
        "# Google Search\n",
        "import requests\n",
        "from bs4 import BeautifulSoup\n",
        "\n",
        "# Google URL\n",
        "google_url = 'https://www.google.com.tw/search'\n",
        "\n",
        "# parameter\n",
        "my_params = {'q': '寒流'}\n",
        "\n",
        "# 下載 Google 搜尋結果\n",
        "r = requests.get(google_url, params = my_params)\n",
        "\n",
        "soup = BeautifulSoup(r.text, 'html.parser')\n",
        "\n",
        "  # 觀察 HTML 原始碼\n",
        "  #print(soup.prettify())\n",
        "\n",
        "  # 以 CSS 的選擇器來抓取 Google 的搜尋結果\n",
        "items = soup.select('div.kCrYT > a[href^=\"/url\"]')\n",
        "\n",
        "for i in items:\n",
        "    # 標題\n",
        "    print(\"標題：\" + i.text)\n",
        "    # 網址\n",
        "    print(\"網址：\" + i.get('href'))"
      ]
    }
  ]
}